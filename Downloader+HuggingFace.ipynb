{
  "cells": [
    {
      "cell_type": "markdown",
      "metadata": {
        "id": "view-in-github",
        "colab_type": "text"
      },
      "source": [
        "<a href=\"https://colab.research.google.com/github/dnlpy/d/blob/main/Downloader%2BHuggingFace.ipynb\" target=\"_parent\"><img src=\"https://colab.research.google.com/assets/colab-badge.svg\" alt=\"Open In Colab\"/></a>"
      ]
    },
    {
      "cell_type": "code",
      "source": [
        "# @title #####**Hubungkan ke Google Drive**\n",
        "\n",
        "from google.colab import drive\n",
        "drive.mount('/content/drive')"
      ],
      "metadata": {
        "cellView": "form",
        "id": "7-YTSMCCbfKK"
      },
      "execution_count": null,
      "outputs": []
    },
    {
      "cell_type": "markdown",
      "source": [
        "# <font color=\"#00ff00\"> **HUGGING FACE** </font>"
      ],
      "metadata": {
        "id": "apUvlVRxiOHz"
      }
    },
    {
      "cell_type": "code",
      "source": [
        "\n",
        "# @title #####**Login**\n",
        "\n",
        "!pip install huggingface_hub\n",
        "!git lfs install\n",
        "from huggingface_hub import login\n",
        "login()"
      ],
      "metadata": {
        "cellView": "form",
        "id": "f3d7c1DICD20"
      },
      "execution_count": null,
      "outputs": []
    },
    {
      "cell_type": "code",
      "source": [
        "\n",
        "# @title ######**clone_repository**\n",
        "\n",
        "from huggingface_hub import Repository\n",
        "\n",
        "repo = Repository(\n",
        "    \"stable-diffusion-2-1\" ,\n",
        "    clone_from=\"stabilityai/stable-diffusion-2-1\" ,\n",
        "    token=True ,\n",
        "    repo_type=\"model\" ,\n",
        ")"
      ],
      "metadata": {
        "id": "jcy2CQBNhvIv",
        "cellView": "form"
      },
      "execution_count": null,
      "outputs": []
    },
    {
      "cell_type": "markdown",
      "source": [
        "##**Upload**"
      ],
      "metadata": {
        "id": "qOGNpe_1X5Cm"
      }
    },
    {
      "cell_type": "code",
      "source": [
        "\n",
        "# @title #####**File**\n",
        "\n",
        "from huggingface_hub import upload_file\n",
        "upload_file(\n",
        "    path_or_fileobj = \"/content/Download\" ,\n",
        "    path_in_repo = \"\" ,\n",
        "    repo_id = \"dnlpy/\" ,\n",
        "    repo_type = \"dataset/model\" ,\n",
        ")"
      ],
      "metadata": {
        "id": "CUrNf_60MpOY",
        "cellView": "form"
      },
      "execution_count": null,
      "outputs": []
    },
    {
      "cell_type": "code",
      "source": [
        "# @title #####**Folder**\n",
        "\n",
        "from  huggingface_hub  import  upload_folder\n",
        "\n",
        "upload_folder(\n",
        "    folder_path = \"/content/Download\" ,\n",
        "    path_in_repo = \"\" ,\n",
        "    repo_id = \"dnlpy/\" ,\n",
        "    repo_type = \"model/dataset\" ,\n",
        ")"
      ],
      "metadata": {
        "id": "u-vu7XKgYKfr",
        "cellView": "form"
      },
      "execution_count": null,
      "outputs": []
    },
    {
      "cell_type": "markdown",
      "source": [
        "# <font color=\"00ff00\"> **DOWNLOADER** </font>"
      ],
      "metadata": {
        "id": "sl-OnqhVinZJ"
      }
    },
    {
      "cell_type": "markdown",
      "source": [
        "###**Download menggunakan Aria2c**"
      ],
      "metadata": {
        "id": "wy3u3A1FjRhj"
      }
    },
    {
      "cell_type": "code",
      "source": [
        "\n",
        "#@title #####**Install aria2c**\n",
        "\n",
        "%%capture\n",
        "!apt-get -y install -qq aria2"
      ],
      "metadata": {
        "cellView": "form",
        "id": "wb101-lii55r"
      },
      "execution_count": null,
      "outputs": []
    },
    {
      "cell_type": "code",
      "source": [
        "\n",
        "#@title #####**Download**\n",
        "\n",
        "url = \"https://civitai.com/api/download/models/162499?type=Model&format=SafeTensor&size=pruned&fp=fp16\"#@param {type:\"string\"}\n",
        "model_url = f'{url}'\n",
        "!aria2c --console-log-level=error -c -x 16 -s 16 -k 1M -Z -j 10 --summary-interval 5 -d /content/Download {url}"
      ],
      "metadata": {
        "id": "ITbdSEEBjHIx",
        "cellView": "form"
      },
      "execution_count": null,
      "outputs": []
    },
    {
      "cell_type": "markdown",
      "source": [
        "##**Download menggunakan wget**"
      ],
      "metadata": {
        "id": "BjZBX0l1ayvl"
      }
    },
    {
      "cell_type": "code",
      "source": [
        "\n",
        "#@title #####**Download**\n",
        "\n",
        "url = \"\" #@param {type:\"string\"}\n",
        "model_url = f'{url}'\n",
        "!wget -c --show-progress -P /content/Download {url}"
      ],
      "metadata": {
        "cellView": "form",
        "id": "1t55DBC8AHzJ"
      },
      "execution_count": null,
      "outputs": []
    }
  ],
  "metadata": {
    "colab": {
      "provenance": [],
      "collapsed_sections": [
        "apUvlVRxiOHz",
        "qOGNpe_1X5Cm",
        "sl-OnqhVinZJ",
        "wy3u3A1FjRhj",
        "BjZBX0l1ayvl"
      ],
      "private_outputs": true,
      "include_colab_link": true
    },
    "kernelspec": {
      "display_name": "Python 3",
      "name": "python3"
    },
    "language_info": {
      "name": "python"
    }
  },
  "nbformat": 4,
  "nbformat_minor": 0
}